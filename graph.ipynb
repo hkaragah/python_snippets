{
 "cells": [
  {
   "cell_type": "code",
   "execution_count": 1,
   "metadata": {},
   "outputs": [],
   "source": [
    "from data_structure import Node, Edge, DiGraph, Graph"
   ]
  },
  {
   "cell_type": "code",
   "execution_count": 2,
   "metadata": {},
   "outputs": [
    {
     "name": "stdout",
     "output_type": "stream",
     "text": [
      "0 -> 1\n",
      "0 -> 2\n",
      "0 -> 3\n",
      "1 -> 0\n",
      "1 -> 3\n",
      "2 -> 0\n",
      "2 -> 3\n",
      "3 -> 0\n",
      "3 -> 1\n",
      "3 -> 2\n",
      "3 -> 4\n",
      "4 -> 3\n"
     ]
    }
   ],
   "source": [
    "nodes = {}\n",
    "for i in range(5):\n",
    "    nodes[i] = Node(i)\n",
    "\n",
    "edges1 = {\n",
    "1: Edge(nodes[0],nodes[1]),\n",
    "2: Edge(nodes[0],nodes[2]),\n",
    "3: Edge(nodes[0],nodes[3]),\n",
    "4: Edge(nodes[1],nodes[3]),\n",
    "5: Edge(nodes[2],nodes[3]),\n",
    "6: Edge(nodes[3],nodes[4])\n",
    "}\n",
    "\n",
    "g1 = Graph()\n",
    "\n",
    "for edge in edges1.values():\n",
    "    g1.addEdge(edge)\n",
    "    \n",
    "\n",
    "    \n",
    "print(g1)\n"
   ]
  },
  {
   "cell_type": "code",
   "execution_count": 3,
   "metadata": {},
   "outputs": [],
   "source": [
    "def dfs(g:Graph, nodeId:int, visited):\n",
    "    \"\"\"Depth First Search (DFS)\n",
    "\n",
    "    Args:\n",
    "        g (Graph): _description_\n",
    "        nodeId (int): _description_\n",
    "        visited (dict[Int:Bool]): \"True\" if node is visted before \"False\" otherwise\n",
    "\n",
    "    Returns:\n",
    "        list[Int]: List of visited nodeId in the path\n",
    "    \"\"\"\n",
    "    src = [node for node in g.edges.keys() if node.id==nodeId][0]\n",
    "    \n",
    "    visit = [nodeId]\n",
    "    visited[nodeId] = True\n",
    "\n",
    "    for dest in g.edges[src]:\n",
    "        if not visited[dest.id]:\n",
    "            visit += dfs(g, dest.id, visited)\n",
    "\n",
    "    return visit  "
   ]
  },
  {
   "cell_type": "code",
   "execution_count": 4,
   "metadata": {},
   "outputs": [
    {
     "name": "stdout",
     "output_type": "stream",
     "text": [
      "[0, 1, 3, 2, 4]\n"
     ]
    }
   ],
   "source": [
    "visited = {node.id: False for node in g1.nodes}\n",
    "print(dfs(g1,0, visited))"
   ]
  },
  {
   "cell_type": "code",
   "execution_count": 7,
   "metadata": {},
   "outputs": [
    {
     "name": "stdout",
     "output_type": "stream",
     "text": [
      "[4, 3, 0, 1, 2]\n"
     ]
    }
   ],
   "source": [
    "visited = {node.id: False for node in g1.nodes}\n",
    "print(dfs(g1, 4, visited))"
   ]
  },
  {
   "cell_type": "code",
   "execution_count": 8,
   "metadata": {},
   "outputs": [
    {
     "name": "stdout",
     "output_type": "stream",
     "text": [
      "0 -> 1\n",
      "0 -> 2\n",
      "1 -> 0\n",
      "1 -> 2\n",
      "1 -> 3\n",
      "1 -> 4\n",
      "2 -> 0\n",
      "2 -> 1\n",
      "3 -> 1\n",
      "3 -> 5\n",
      "4 -> 1\n",
      "5 -> 3\n",
      "5 -> 6\n",
      "5 -> 7\n",
      "5 -> 8\n",
      "6 -> 5\n",
      "7 -> 5\n",
      "7 -> 8\n",
      "8 -> 5\n",
      "8 -> 7\n",
      "8 -> 9\n",
      "9 -> 8\n"
     ]
    }
   ],
   "source": [
    "n = {}\n",
    "for i in range(10):\n",
    "    n[i] = Node(i)\n",
    "\n",
    "\n",
    "edges = {\n",
    "    1: Edge(n[0],n[1]),\n",
    "    2: Edge(n[0],n[2]),\n",
    "    3: Edge(n[1],n[2]),\n",
    "    4: Edge(n[1],n[3]),\n",
    "    5: Edge(n[1],n[4]),\n",
    "    6: Edge(n[3],n[5]),\n",
    "    7: Edge(n[5],n[6]),\n",
    "    8: Edge(n[5],n[7]),\n",
    "    9: Edge(n[5],n[8]),\n",
    "    10: Edge(n[7],n[8]),\n",
    "    11: Edge(n[8],n[9]),\n",
    "}\n",
    "\n",
    "\n",
    "g2 = Graph()\n",
    "\n",
    "for edge in edges.values():\n",
    "    g2.addEdge(edge)\n",
    "\n",
    "print(g2)\n"
   ]
  },
  {
   "cell_type": "code",
   "execution_count": 9,
   "metadata": {},
   "outputs": [
    {
     "data": {
      "text/plain": [
       "[0, 1, 2, 3, 5, 6, 7, 8, 9, 4]"
      ]
     },
     "execution_count": 9,
     "metadata": {},
     "output_type": "execute_result"
    }
   ],
   "source": [
    "visited = {node.id: False for node in g2.nodes }\n",
    "dfs(g2, 0, visited)"
   ]
  },
  {
   "cell_type": "code",
   "execution_count": 10,
   "metadata": {},
   "outputs": [
    {
     "data": {
      "text/plain": [
       "[5, 3, 1, 0, 2, 4, 6, 7, 8, 9]"
      ]
     },
     "execution_count": 10,
     "metadata": {},
     "output_type": "execute_result"
    }
   ],
   "source": [
    "visited = {node.id: False for node in g2.nodes }\n",
    "dfs(g2, 5, visited)"
   ]
  }
 ],
 "metadata": {
  "kernelspec": {
   "display_name": "base",
   "language": "python",
   "name": "python3"
  },
  "language_info": {
   "codemirror_mode": {
    "name": "ipython",
    "version": 3
   },
   "file_extension": ".py",
   "mimetype": "text/x-python",
   "name": "python",
   "nbconvert_exporter": "python",
   "pygments_lexer": "ipython3",
   "version": "3.11.7"
  }
 },
 "nbformat": 4,
 "nbformat_minor": 2
}
